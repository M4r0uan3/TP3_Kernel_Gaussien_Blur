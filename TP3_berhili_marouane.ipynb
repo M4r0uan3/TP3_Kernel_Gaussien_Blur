{
  "nbformat": 4,
  "nbformat_minor": 0,
  "metadata": {
    "colab": {
      "provenance": [],
      "gpuType": "T4"
    },
    "kernelspec": {
      "name": "python3",
      "display_name": "Python 3"
    },
    "language_info": {
      "name": "python"
    },
    "accelerator": "GPU"
  },
  "cells": [
    {
      "cell_type": "code",
      "execution_count": 1,
      "metadata": {
        "colab": {
          "base_uri": "https://localhost:8080/"
        },
        "id": "WEdmqCFrAbct",
        "outputId": "f389db71-bf11-4367-eea1-d58021671b0f"
      },
      "outputs": [
        {
          "output_type": "stream",
          "name": "stdout",
          "text": [
            "Collecting wurlitzer\n",
            "  Downloading wurlitzer-3.0.3-py3-none-any.whl (7.3 kB)\n",
            "Installing collected packages: wurlitzer\n",
            "Successfully installed wurlitzer-3.0.3\n"
          ]
        }
      ],
      "source": [
        "!pip install wurlitzer\n",
        "%load_ext wurlitzer\n",
        "# Just so we can print inside a kernel"
      ]
    },
    {
      "cell_type": "code",
      "source": [
        "import numpy as np\n",
        "from PIL import Image, ImageOps\n",
        "from numba import cuda\n",
        "import math\n",
        "import timeit\n",
        "import matplotlib.pyplot as plt\n"
      ],
      "metadata": {
        "id": "SCjGcU1-Ad2U"
      },
      "execution_count": 2,
      "outputs": []
    },
    {
      "cell_type": "code",
      "source": [
        "# @cuda.jit\n",
        "# def noir_et_blanc(input, output):\n",
        "#   x, y = cuda.grid(2)\n",
        "#   if x < input.shape[0] and y < input.shape[1]:\n",
        "#     R = input[x,y][0]\n",
        "#     G = input[x,y][1]\n",
        "#     B = input[x,y][2]\n",
        "#     gris = 0.3 * R + 0.59 * G + 0.11 * B\n",
        "#     output[x,y][0] = int(gris)\n",
        "#     output[x,y][1] = int(gris)\n",
        "#     output[x,y][2] = int(gris)"
      ],
      "metadata": {
        "id": "ZTJoU0egAf_w"
      },
      "execution_count": 3,
      "outputs": []
    },
    {
      "cell_type": "code",
      "source": [
        "@cuda.jit\n",
        "def gk_blur(sigma, kernel_size, kernel):\n",
        "    c = kernel_size // 2\n",
        "    x, y = cuda.grid(2)\n",
        "\n",
        "    if x < kernel_size and y < kernel_size:\n",
        "        exponent = -((x - c) ** 2 + (y - c) ** 2) / (2 * sigma ** 2)\n",
        "        kernel[x, y] = np.int32(((1 / (2 * np.pi * sigma ** 2)) * math.exp(exponent)) * 1000)"
      ],
      "metadata": {
        "id": "OMHrT-NIFIae"
      },
      "execution_count": 4,
      "outputs": []
    },
    {
      "cell_type": "code",
      "source": [
        "@cuda.jit\n",
        "def floute(input, output, kernel):\n",
        "    x, y = cuda.grid(2)\n",
        "    t_R, t_G, t_B = 0, 0, 0\n",
        "\n",
        "    if x < input.shape[0] and y < input.shape[1]:\n",
        "        R, G, B = input[x, y]\n",
        "\n",
        "        centre = kernel.shape[0] // 2\n",
        "        for i in range(-centre, centre + 1):\n",
        "            for j in range(-centre, centre + 1):\n",
        "                ni, nj = x + i, y + j\n",
        "                ni_valid = 0 <= ni < input.shape[0]\n",
        "                nj_valid = 0 <= nj < input.shape[1]\n",
        "\n",
        "                pixel_value = input[ni, nj] if (ni_valid and nj_valid) else input[x, y]\n",
        "\n",
        "                t_R += kernel[i + centre, j + centre] * pixel_value[0]\n",
        "                t_G += kernel[i + centre, j + centre] * pixel_value[1]\n",
        "                t_B += kernel[i + centre, j + centre] * pixel_value[2]\n",
        "\n",
        "        output[x, y, 0] = t_R // 256\n",
        "        output[x, y, 1] = t_G // 256\n",
        "        output[x, y, 2] = t_B // 256"
      ],
      "metadata": {
        "id": "REDrXc7Pbc3D"
      },
      "execution_count": 5,
      "outputs": []
    },
    {
      "cell_type": "code",
      "source": [
        "def Bench(image_source):\n",
        "    image = np.asarray(image_source)\n",
        "    d_image = cuda.to_device(image)\n",
        "    d_result = cuda.device_array_like(image)\n",
        "    sigma = 11.4\n",
        "    kernel_size = 27\n",
        "\n",
        "    # Define thread block sizes for the benchmark\n",
        "    thread_block_sizes = [(8, 8), (16, 16), (32, 32), (64, 64)]\n",
        "\n",
        "    # Store results for plotting\n",
        "    avg_execution_times = []\n",
        "\n",
        "    # Perform benchmark with different thread block sizes\n",
        "    for tb_size in thread_block_sizes:\n",
        "        execution_times = []\n",
        "\n",
        "        try:\n",
        "            for _ in range(11):  # Perform at least 11 experiments, discard the first value\n",
        "                d_kernel = cuda.to_device(np.zeros((kernel_size, kernel_size), dtype=np.float32))\n",
        "                gk_blur[(1,), (kernel_size, kernel_size)](sigma, kernel_size, d_kernel)\n",
        "\n",
        "                # Measure execution time of floute kernel\n",
        "                start_time = timeit.default_timer()\n",
        "                floute[d_image.shape, tb_size](d_image, d_result, d_kernel)\n",
        "                cuda.synchronize()\n",
        "                end_time = timeit.default_timer()\n",
        "\n",
        "                execution_time = end_time - start_time\n",
        "\n",
        "                # Call the floute kernel\n",
        "                floute[d_image.shape, tb_size](d_image, d_result, d_kernel)\n",
        "\n",
        "                # Transfer the result back to the CPU (optional if not needed for display)\n",
        "                result = d_result.copy_to_host()\n",
        "\n",
        "                # Discard the first value (warm-up)\n",
        "                if _ > 0:\n",
        "                    execution_times.append(execution_time)\n",
        "\n",
        "            # Calculate and store the average execution time\n",
        "            avg_execution_time = np.mean(execution_times)\n",
        "            avg_execution_times.append(avg_execution_time)\n",
        "            print(f\"Thread Block Size {tb_size}: Average Execution Time: {avg_execution_time} seconds\")\n",
        "\n",
        "        except cuda.cudadrv.driver.CudaAPIError as e:\n",
        "            print(f\"Error for Thread Block Size {tb_size}: {e}\")\n",
        "            avg_execution_times.append(np.nan)  # Use a placeholder value for cases where an error occurs\n",
        "\n",
        "    # Plot the results\n",
        "    thread_block_sizes_str = [str(tb) for tb in thread_block_sizes]\n",
        "    plt.bar(thread_block_sizes_str, avg_execution_times)\n",
        "    plt.xlabel('Thread Block Size')\n",
        "    plt.ylabel('Average Execution Time (seconds)')\n",
        "    plt.title('Benchmark Results for Different Thread Block Sizes')\n",
        "    plt.show()\n",
        "\n",
        "# Load the image\n",
        "im = Image.open(\"test.jpg\")\n",
        "image = np.asarray(im)\n",
        "\n",
        "# Call the benchmark function with your image\n",
        "Bench(image)"
      ],
      "metadata": {
        "id": "0wha8IjrJNdZ",
        "colab": {
          "base_uri": "https://localhost:8080/",
          "height": 564
        },
        "outputId": "8d588c34-87e7-4f52-accb-08f7f79dbc93"
      },
      "execution_count": 13,
      "outputs": [
        {
          "output_type": "stream",
          "name": "stdout",
          "text": [
            "Thread Block Size (8, 8): Average Execution Time: 0.25793909850001456 seconds\n",
            "Thread Block Size (16, 16): Average Execution Time: 0.27405679330000793 seconds\n"
          ]
        },
        {
          "output_type": "stream",
          "name": "stderr",
          "text": [
            "ERROR:numba.cuda.cudadrv.driver:Call to cuLaunchKernel results in CUDA_ERROR_INVALID_VALUE\n"
          ]
        },
        {
          "output_type": "stream",
          "name": "stdout",
          "text": [
            "Thread Block Size (32, 32): Average Execution Time: 0.4916452387000163 seconds\n",
            "Error for Thread Block Size (64, 64): [1] Call to cuLaunchKernel results in CUDA_ERROR_INVALID_VALUE\n"
          ]
        },
        {
          "output_type": "display_data",
          "data": {
            "text/plain": [
              "<Figure size 640x480 with 1 Axes>"
            ],
            "image/png": "[encoded data removed]"
          },
          "metadata": {}
        }
      ]
    },
    {
      "cell_type": "code",
      "source": [
        "# # Load the image\n",
        "# im = Image.open(\"test.jpg\")\n",
        "# image = np.asarray(im)\n",
        "\n",
        "# # Define Gaussian kernel parameters\n",
        "# # sigma = 2.14\n",
        "# # kernel_size = 2*math.ceil(3*sigma)+1\n",
        "# sigma = 11.4\n",
        "# kernel_size = 27\n",
        "\n",
        "# # Create and blur the Gaussian kernel\n",
        "# kernel = np.zeros((kernel_size, kernel_size), np.float32)\n",
        "# d_kernel = cuda.to_device(kernel)\n",
        "# gk_blur[(1,), (kernel_size, kernel_size)](sigma, kernel_size, d_kernel)\n",
        "\n",
        "# gk  = d_kernel.copy_to_host()\n",
        "# print(gk)\n",
        "\n",
        "# # Apply the blurred kernel to the image\n",
        "# d_image = cuda.to_device(image)\n",
        "# d_result = cuda.device_array_like(image)\n",
        "\n",
        "# # Define the thread block size\n",
        "# tb = (16, 16)\n",
        "\n",
        "# # Calculate the grid size based on the image dimensions and thread block size\n",
        "# grid_x = math.ceil(image.shape[0] / tb[0])\n",
        "# grid_y = math.ceil(image.shape[1] / tb[1])\n",
        "# grid = (grid_x, grid_y)\n",
        "\n",
        "# # Call the floute kernel\n",
        "# floute[grid, tb](d_image, d_result, d_kernel)\n",
        "\n",
        "# # Transfer the result back to the CPU\n",
        "# result = d_result.copy_to_host()\n",
        "\n",
        "# # Display the original and blurred images using matplotlib\n",
        "# plt.figure()\n",
        "# plt.imshow(image)\n",
        "# plt.title(\"Original Image\")\n",
        "\n",
        "# plt.figure()\n",
        "# plt.imshow(result)\n",
        "# plt.title(\"Blurred Image\")\n",
        "\n",
        "# plt.show()"
      ],
      "metadata": {
        "id": "nI2CzYd1Ak_r"
      },
      "execution_count": 7,
      "outputs": []
    },
    {
      "cell_type": "code",
      "source": [
        "#"
      ],
      "metadata": {
        "id": "SsHloaTxJdWO"
      },
      "execution_count": 8,
      "outputs": []
    }
  ]
}